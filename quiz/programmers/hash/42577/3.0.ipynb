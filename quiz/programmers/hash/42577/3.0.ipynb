{
 "metadata": {
  "language_info": {
   "codemirror_mode": {
    "name": "ipython",
    "version": 3
   },
   "file_extension": ".py",
   "mimetype": "text/x-python",
   "name": "python",
   "nbconvert_exporter": "python",
   "pygments_lexer": "ipython3",
   "version": "3.7.3-final"
  },
  "orig_nbformat": 2,
  "kernelspec": {
   "name": "python3",
   "display_name": "Python 3.7.3 64-bit",
   "metadata": {
    "interpreter": {
     "hash": "20bf69066c0dd38d51965b69d5e1b6e387082e3198ba56e97997ac55f4e50ad0"
    }
   }
  }
 },
 "nbformat": 4,
 "nbformat_minor": 2,
 "cells": [
  {
   "cell_type": "code",
   "execution_count": null,
   "metadata": {},
   "outputs": [],
   "source": [
    "'''\n",
    "hash를 이용했다고 한다 \n",
    "'''"
   ]
  },
  {
   "cell_type": "code",
   "execution_count": 3,
   "metadata": {},
   "outputs": [
    {
     "output_type": "stream",
     "name": "stdout",
     "text": [
      "{'567': 1, '123': 1, '124': 1, '1235': 1, '1255': 1, '88': 1}\nphonenumber:567------\n\n5 5\n6 56\n7 567\nphonenumber:123------\n\n1 1\n2 12\n3 123\nphonenumber:124------\n\n1 1\n2 12\n4 124\nphonenumber:1235------\n\n1 1\n2 12\n3 123\nFalse\n"
     ]
    }
   ],
   "source": [
    "\n",
    "def solution(phone_book):\n",
    "    answer = True\n",
    "    hash_map = {}\n",
    "    for phone_number in phone_book:\n",
    "        hash_map[phone_number] = 1\n",
    "\n",
    "\n",
    "    print(hash_map)\n",
    "    #--- 여기까지 O(n)\n",
    "\n",
    "    for phone_number in phone_book:\n",
    "        print(f\"phonenumber:{phone_number}------\\n\")\n",
    "        temp = \"\"\n",
    "        for number in phone_number:\n",
    "            temp += number\n",
    "            print(number, temp)\n",
    "            if temp in hash_map and temp != phone_number:\n",
    "                return False\n",
    "    return True\n",
    "\n",
    "data = \t[\"567\", \"123\", \"124\", \"1235\",\"1255\", \"88\"]\n",
    "print(solution(data))"
   ]
  }
 ]
}