{
 "metadata": {
  "language_info": {
   "codemirror_mode": {
    "name": "ipython",
    "version": 3
   },
   "file_extension": ".py",
   "mimetype": "text/x-python",
   "name": "python",
   "nbconvert_exporter": "python",
   "pygments_lexer": "ipython3",
   "version": "3.7.3-final"
  },
  "orig_nbformat": 2,
  "kernelspec": {
   "name": "python3",
   "display_name": "Python 3.7.3 64-bit",
   "metadata": {
    "interpreter": {
     "hash": "20bf69066c0dd38d51965b69d5e1b6e387082e3198ba56e97997ac55f4e50ad0"
    }
   }
  }
 },
 "nbformat": 4,
 "nbformat_minor": 2,
 "cells": [
  {
   "cell_type": "code",
   "execution_count": 1,
   "metadata": {},
   "outputs": [
    {
     "output_type": "execute_result",
     "data": {
      "text/plain": [
       "'\\n다른 유저의 풀이를 봤다.\\n'"
      ]
     },
     "metadata": {},
     "execution_count": 1
    }
   ],
   "source": [
    "'''\n",
    "다른 유저의 풀이를 봤다.\n",
    "'''"
   ]
  },
  {
   "cell_type": "code",
   "execution_count": 11,
   "metadata": {},
   "outputs": [
    {
     "output_type": "stream",
     "name": "stdout",
     "text": [
      "['123', '1235', '124', '1255', '567', '88']\n123 1235\nFalse\n"
     ]
    }
   ],
   "source": [
    "def solution(phone_book):\n",
    "\n",
    "    phone_book = sorted(phone_book)\n",
    "    print(phone_book)    \n",
    "    for p1, p2 in zip(phone_book, phone_book[1:]):\n",
    "        print(p1, p2)\n",
    "        if p2.startswith(p1):\n",
    "              return False\n",
    "    return True\n",
    "\n",
    "\n",
    "data = \t[\"567\", \"123\", \"124\", \"1235\",\"1255\", \"88\"]\n",
    "print(solution(data))"
   ]
  },
  {
   "cell_type": "code",
   "execution_count": null,
   "metadata": {},
   "outputs": [],
   "source": [
    "'''\n",
    "sorted = 문자 알파벳 순서대로 솔팅을 해주는구나\n",
    "그냥 쓰는게 중요한게 아니라 \n",
    "이런 내장 함수들은 어떻게 시간복잡도를 줄인건지 아는게 중요할텐데\n",
    "\n",
    "나만의 함수를 만들어볼까? => 알고리즘을 학습하는데 좋을 것 같은데 \n",
    "언더스코어 같은거\n",
    "\n",
    "p2.startswith(p1)\n",
    "이게 이걸로 시작하는지 체크 \n",
    "\n",
    "'''"
   ]
  }
 ]
}