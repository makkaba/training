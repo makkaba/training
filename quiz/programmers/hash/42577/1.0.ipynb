{
 "metadata": {
  "language_info": {
   "codemirror_mode": {
    "name": "ipython",
    "version": 3
   },
   "file_extension": ".py",
   "mimetype": "text/x-python",
   "name": "python",
   "nbconvert_exporter": "python",
   "pygments_lexer": "ipython3",
   "version": 3
  },
  "orig_nbformat": 2
 },
 "nbformat": 4,
 "nbformat_minor": 2,
 "cells": [
  {
   "cell_type": "code",
   "execution_count": null,
   "metadata": {},
   "outputs": [],
   "source": [
    "def solution(phone_book):\n",
    "    answer = True\n",
    "\n",
    "    for size in range(21):\n",
    "        \n",
    "        dict = {}\n",
    "        for num in phone_book:\n",
    "            prev = dict.get(num[:size+1], -1)\n",
    "            cur = num[:size+1]\n",
    "            \n",
    "\n",
    "            #이미 존재\n",
    "            if prev == cur:\n",
    "                return False\n",
    "            else:\n",
    "                dict.update({num[:size+1]: num[:size+1]})\n",
    "            \n",
    "\n",
    "    return True\n",
    "\n",
    "data = \t[\"12\", \"123\", \"1235\", \"567\", \"88\"]\n",
    "print(solution(data))"
   ]
  },
  {
   "cell_type": "code",
   "execution_count": null,
   "metadata": {},
   "outputs": [],
   "source": [
    "\n",
    "'''\n",
    "정확도\n",
    "실제 포함관계이려면 글자를 모두 포함해야하는데 \n",
    "0부터 21까지 글자를 끊었기 때문에 틀림 \n",
    "'''\n",
    "\n",
    "'''\n",
    "효율성\n",
    "최악의 경우 10만개 데이터를 딕셔너리에 모두 저장해야하므로 \n",
    "공간의 비효율\n",
    "'''\n",
    "\n",
    "'''\n",
    "똥멍청이\n",
    "'''"
   ]
  }
 ]
}